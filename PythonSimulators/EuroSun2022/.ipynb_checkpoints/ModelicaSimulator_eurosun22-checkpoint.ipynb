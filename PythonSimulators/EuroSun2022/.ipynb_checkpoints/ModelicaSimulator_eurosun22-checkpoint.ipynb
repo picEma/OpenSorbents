{
 "cells": [
  {
   "cell_type": "markdown",
   "id": "numerical-biodiversity",
   "metadata": {},
   "source": [
    "Script to manage the simulation of the paramatric analysis of activated carbon potential performance.\n",
    "for more details, see \n",
    "\n",
    "Piccoli et al, Optimized Adsorption Heat Pump for Efficiency Increase of District Heating Networks, EuroSun 2022 (not yet published as of 12/04/2023)\n",
    "\n",
    "or\n",
    "\n",
    "Piccoli, Selection and Optimal Use of Nanoporous Materials for Adsorption Energy Technology, Chapter 4.2, 2023"
   ]
  },
  {
   "cell_type": "markdown",
   "id": "executed-spencer",
   "metadata": {},
   "source": [
    "import relevant libraries"
   ]
  },
  {
   "cell_type": "code",
   "execution_count": 1,
   "id": "several-junior",
   "metadata": {},
   "outputs": [],
   "source": [
    "import shutil, os\n",
    "import OMPython\n",
    "from OMPython import OMCSessionZMQ\n",
    "from OMPython import ModelicaSystem\n",
    "import DyMat\n",
    "import numpy as np\n",
    "import matplotlib.pyplot as plt\n",
    "import pandas as pd\n",
    "import func_timeout"
   ]
  },
  {
   "cell_type": "markdown",
   "id": "english-evidence",
   "metadata": {},
   "source": [
    "libraries we are not using in this code, but can be useful for further deployment"
   ]
  },
  {
   "cell_type": "markdown",
   "id": "figured-prompt",
   "metadata": {},
   "source": [
    "Check where you are located"
   ]
  },
  {
   "cell_type": "code",
   "execution_count": 3,
   "id": "changing-station",
   "metadata": {},
   "outputs": [
    {
     "data": {
      "text/plain": [
       "'C:\\\\Users\\\\piem\\\\Documents\\\\OpenSorbents\\\\fromScratch\\\\PythonSimulators\\\\EuroSun2022'"
      ]
     },
     "execution_count": 3,
     "metadata": {},
     "output_type": "execute_result"
    }
   ],
   "source": [
    "os.getcwd()"
   ]
  },
  {
   "cell_type": "markdown",
   "id": "inside-fighter",
   "metadata": {},
   "source": [
    "move to folder of the MOSES \"package.mo\" file, and check if successfull"
   ]
  },
  {
   "cell_type": "code",
   "execution_count": 4,
   "id": "qualified-python",
   "metadata": {},
   "outputs": [
    {
     "data": {
      "text/plain": [
       "'C:\\\\Users\\\\piem\\\\Documents\\\\OpenSorbents\\\\fromScratch\\\\MOSES'"
      ]
     },
     "execution_count": 4,
     "metadata": {},
     "output_type": "execute_result"
    }
   ],
   "source": [
    "os.chdir('C:/Users/piem/Documents/OpenSorbents/fromScratch/MOSES')\n",
    "os.getcwd()"
   ]
  },
  {
   "cell_type": "markdown",
   "id": "empty-combat",
   "metadata": {},
   "source": [
    "build your model, the one you run (in this case the RMFAC slab with square wave boundary), and accessories libraries needed, such as modelica standard library\n",
    "\n",
    "in square brackets additional libraries, in this case Modelica is the Modelica standard library"
   ]
  },
  {
   "cell_type": "code",
   "execution_count": 5,
   "id": "alien-chaos",
   "metadata": {},
   "outputs": [],
   "source": [
    "\n",
    "omc = OMCSessionZMQ()\n",
    "mod = ModelicaSystem(\"package.mo\", \"MOSES.Simulations.EuroSun2022_RMFAC_SquareWave\",[\"Modelica\"])\n",
    "mod.buildModel()\n"
   ]
  },
  {
   "cell_type": "markdown",
   "id": "round-report",
   "metadata": {},
   "source": [
    "Define keyword for reading simulation options and model parameters\n",
    "\n",
    "visualize simulation options so u know what you can change"
   ]
  },
  {
   "cell_type": "code",
   "execution_count": 6,
   "id": "alert-finnish",
   "metadata": {},
   "outputs": [
    {
     "data": {
      "text/plain": [
       "{'startTime': '0',\n",
       " 'stopTime': '1',\n",
       " 'stepSize': '0.002',\n",
       " 'tolerance': '1e-006',\n",
       " 'solver': 'dassl'}"
      ]
     },
     "execution_count": 6,
     "metadata": {},
     "output_type": "execute_result"
    }
   ],
   "source": [
    "opt=mod.getSimulationOptions()\n",
    "\n",
    "opt"
   ]
  },
  {
   "cell_type": "code",
   "execution_count": 7,
   "id": "streaming-watts",
   "metadata": {
    "scrolled": false
   },
   "outputs": [
    {
     "data": {
      "text/plain": [
       "{'Dpyr': '323.5',\n",
       " 'SET_DutyCycle': '0.3291',\n",
       " 'SET_Period': '67.01000000000001',\n",
       " 'SET_Pi': '720.0',\n",
       " 'SET_Tf': '288.15',\n",
       " 'SET_Ti': '288.15',\n",
       " 'SET_microradius': '2e-006',\n",
       " 'Tads': '288.15',\n",
       " 'Tcond': '330.8',\n",
       " 'Teva': '285.1',\n",
       " 'Thot': '343.2',\n",
       " 'Tpyr': '845.6',\n",
       " 'contactResistance_RMFAC.Tf': '288.15',\n",
       " 'contactResistance_RMFAC.Ti': '288.15',\n",
       " 'contactResistance_RMFAC.thickness': None,\n",
       " 'diffusionWater_RMFAC.T0': '288.15',\n",
       " 'diffusionWater_RMFAC.microradius': None,\n",
       " 'diffusionWater_RMFAC.thickness': None,\n",
       " 'linearValve_FakeCompany.chamberV': '8.9e-008',\n",
       " 'linearValve_FakeCompany.p0': None,\n",
       " 'pT_FluidBoundary.SET_DutyCycle': None,\n",
       " 'pT_FluidBoundary.SET_Period': None,\n",
       " 'pT_FluidBoundary.tcond': '288.15',\n",
       " 'pT_FluidBoundary.teva': '288.15',\n",
       " 'sampleThickness': '0.00997',\n",
       " 'slab_rito2022.Hads': None,\n",
       " 'slab_rito2022.microradius': None,\n",
       " 'slab_rito2022.rhoWatLiq': '997.0',\n",
       " 'slab_rito2022.sorbent.D0': '0.0043',\n",
       " 'slab_rito2022.sorbent.Dpyr': None,\n",
       " 'slab_rito2022.sorbent.Ea': '41500.0',\n",
       " 'slab_rito2022.sorbent.H_ads': None,\n",
       " 'slab_rito2022.sorbent.Hs': '2693000.0',\n",
       " 'slab_rito2022.sorbent.Tpyr': None,\n",
       " 'slab_rito2022.sorbent.microradius': None,\n",
       " 'slab_rito2022.sorbent.r': None,\n",
       " 'slab_rito2022.thickness': None,\n",
       " 'tRamp_HeatBoundary_RMFAC.SET_DutyCycle': None,\n",
       " 'tRamp_HeatBoundary_RMFAC.SET_Period': None,\n",
       " 'tRamp_HeatBoundary_RMFAC.Tf': '288.15'}"
      ]
     },
     "execution_count": 7,
     "metadata": {},
     "output_type": "execute_result"
    }
   ],
   "source": [
    "par=mod.getParameters()\n",
    "par"
   ]
  },
  {
   "cell_type": "markdown",
   "id": "atlantic-highway",
   "metadata": {},
   "source": [
    "Here I set a very long simulation time, but eventually it will be overwritten as a function of the cycling period set. Also I set a quite small simulation time step size, that can also be overwritten if necessary"
   ]
  },
  {
   "cell_type": "code",
   "execution_count": 9,
   "id": "administrative-trail",
   "metadata": {},
   "outputs": [],
   "source": [
    "mod.setSimulationOptions(\"startTime=0\")\n",
    "mod.setSimulationOptions(\"stopTime=\"+str(140*100))\n",
    "mod.setSimulationOptions(\"stepSize=0.1\")"
   ]
  },
  {
   "cell_type": "markdown",
   "id": "prospective-bible",
   "metadata": {},
   "source": [
    "simulation test to see if everything works"
   ]
  },
  {
   "cell_type": "code",
   "execution_count": 10,
   "id": "middle-fifty",
   "metadata": {},
   "outputs": [],
   "source": [
    "mod.simulate()"
   ]
  },
  {
   "cell_type": "markdown",
   "id": "global-occurrence",
   "metadata": {},
   "source": [
    "example of data retrieval from the result file. It is named as nameOfYourModel_res.mat\n",
    "If you do not produce a mat file, check your settings in OMEdit\n",
    "\n",
    "To retrieve the value of a variable it is possible to call them as they appear in the OMEdit model. In this example KPIheat is the performance indicator in the heating mode.\n",
    "\n",
    "[-1] means the last element, or the last time step in the simulation."
   ]
  },
  {
   "cell_type": "code",
   "execution_count": 11,
   "id": "excellent-qualification",
   "metadata": {},
   "outputs": [
    {
     "data": {
      "text/plain": [
       "0.0017463931097942821"
      ]
     },
     "execution_count": 11,
     "metadata": {},
     "output_type": "execute_result"
    }
   ],
   "source": [
    "d=DyMat.DyMatFile('MOSES.Simulations.EuroSun2022_RMFAC_SquareWave_res.mat')\n",
    "d.data(\"KPIheat\")[-1]"
   ]
  },
  {
   "cell_type": "markdown",
   "id": "continental-meter",
   "metadata": {},
   "source": [
    "One example of reading a model parameter. Below there will be examples of parameters setting."
   ]
  },
  {
   "cell_type": "code",
   "execution_count": 12,
   "id": "generic-domestic",
   "metadata": {},
   "outputs": [
    {
     "data": {
      "text/plain": [
       "'67.01000000000001'"
      ]
     },
     "execution_count": 12,
     "metadata": {},
     "output_type": "execute_result"
    }
   ],
   "source": [
    "par['SET_Period']"
   ]
  },
  {
   "cell_type": "markdown",
   "id": "duplicate-animal",
   "metadata": {},
   "source": [
    "set simulation options according to your needs. \n",
    "\n",
    "It decides if to abort a simulation in case of long simulation time (sign of potential numerical problems as no convergence)\n",
    "This function returns the average KPI of the last cycle in case the simulation ends successfully. Otherwise returns \"fail\", or a value of choice default_value\n",
    "\n",
    "As the same material has both a heating and a coolng performance, two functions are needed."
   ]
  },
  {
   "cell_type": "code",
   "execution_count": 18,
   "id": "eastern-background",
   "metadata": {},
   "outputs": [],
   "source": [
    "def runFunctionHeat(f, max_wait, default_value):\n",
    "    try:\n",
    "        func_timeout.func_timeout(max_wait, f)\n",
    "        d=DyMat.DyMatFile('MOSES.Simulations.EuroSun2022_RMFAC_SquareWave_res.mat')\n",
    "        return np.average(d.data(\"KPIheat\")[-int(float(par['SET_Period'])/float(opt['stepSize'])):-1])\n",
    "    except func_timeout.FunctionTimedOut:\n",
    "        pass\n",
    "        return default_value"
   ]
  },
  {
   "cell_type": "code",
   "execution_count": 19,
   "id": "gentle-leone",
   "metadata": {},
   "outputs": [],
   "source": [
    "def runFunctionCool(f, max_wait, default_value):\n",
    "    try:\n",
    "        func_timeout.func_timeout(max_wait, f)\n",
    "        d=DyMat.DyMatFile('MOSES.Simulations.EuroSun2022_RMFAC_SquareWave_res.mat')\n",
    "        return np.average(d.data(\"KPIcool\")[-int(float(par['SET_Period'])/float(opt['stepSize'])):-1])\n",
    "    except func_timeout.FunctionTimedOut:\n",
    "        pass\n",
    "        return default_value"
   ]
  },
  {
   "cell_type": "markdown",
   "id": "under-fairy",
   "metadata": {},
   "source": [
    "Test of the above function"
   ]
  },
  {
   "cell_type": "code",
   "execution_count": 20,
   "id": "regulated-washer",
   "metadata": {},
   "outputs": [
    {
     "data": {
      "text/plain": [
       "0.0017439412469834879"
      ]
     },
     "execution_count": 20,
     "metadata": {},
     "output_type": "execute_result"
    }
   ],
   "source": [
    "x = runFunctionHeat(mod.simulate, 120, 'fail')\n",
    "x"
   ]
  },
  {
   "cell_type": "markdown",
   "id": "regulated-exemption",
   "metadata": {},
   "source": [
    "fix the parameters you want to try out\n",
    "\n",
    "In this example I specify one value only, but I leave the array formulation for actual loop simulations"
   ]
  },
  {
   "cell_type": "code",
   "execution_count": 21,
   "id": "missing-permit",
   "metadata": {},
   "outputs": [],
   "source": [
    "period=np.linspace(300, 300, 1)\n",
    "duty=np.linspace(0.5,0.5,1)\n",
    "thick=np.linspace(0.002, 0.002, 1)\n",
    "tpyr=np.linspace(968,968,1)\n",
    "dpyr=np.linspace(244,244,1)"
   ]
  },
  {
   "cell_type": "code",
   "execution_count": 22,
   "id": "independent-bikini",
   "metadata": {},
   "outputs": [],
   "source": [
    "#heating mode\n",
    "teva_h=np.linspace(293,293,1)\n",
    "tcon_h=np.linspace(308,308,1)\n",
    "thot_h=np.linspace(368,368,1)\n",
    "\n",
    "#cooling mode\n",
    "teva_c=np.linspace(288,288,1)\n",
    "tcon_c=np.linspace(303,303,1)\n",
    "thot_c=np.linspace(363,363,1)"
   ]
  },
  {
   "cell_type": "markdown",
   "id": "quiet-piano",
   "metadata": {},
   "source": [
    "initialize empty results data frames"
   ]
  },
  {
   "cell_type": "code",
   "execution_count": 28,
   "id": "preceding-string",
   "metadata": {},
   "outputs": [
    {
     "data": {
      "text/html": [
       "<div>\n",
       "<style scoped>\n",
       "    .dataframe tbody tr th:only-of-type {\n",
       "        vertical-align: middle;\n",
       "    }\n",
       "\n",
       "    .dataframe tbody tr th {\n",
       "        vertical-align: top;\n",
       "    }\n",
       "\n",
       "    .dataframe thead th {\n",
       "        text-align: right;\n",
       "    }\n",
       "</style>\n",
       "<table border=\"1\" class=\"dataframe\">\n",
       "  <thead>\n",
       "    <tr style=\"text-align: right;\">\n",
       "      <th></th>\n",
       "      <th>KPIheat</th>\n",
       "      <th>p</th>\n",
       "      <th>d</th>\n",
       "      <th>th</th>\n",
       "      <th>tp</th>\n",
       "      <th>dp</th>\n",
       "      <th>te</th>\n",
       "      <th>tc</th>\n",
       "      <th>th</th>\n",
       "    </tr>\n",
       "  </thead>\n",
       "  <tbody>\n",
       "  </tbody>\n",
       "</table>\n",
       "</div>"
      ],
      "text/plain": [
       "Empty DataFrame\n",
       "Columns: [KPIheat, p, d, th, tp, dp, te, tc, th]\n",
       "Index: []"
      ]
     },
     "execution_count": 28,
     "metadata": {},
     "output_type": "execute_result"
    }
   ],
   "source": [
    "KPIheatd=pd.DataFrame([],columns=['KPIheat','p','d','th','tp','dp','te','tc','th'])\n",
    "KPIcoold=pd.DataFrame([],columns=['KPIcool','p','d','th','tp','dp','te','tc','th'])\n",
    "KPIheatd"
   ]
  },
  {
   "cell_type": "markdown",
   "id": "regular-flash",
   "metadata": {},
   "source": [
    "define your simulation abort time and number of cycles for reaching dynamic equilibrium"
   ]
  },
  {
   "cell_type": "code",
   "execution_count": 29,
   "id": "split-category",
   "metadata": {},
   "outputs": [],
   "source": [
    "t_abort=120\n",
    "n_cycles=50"
   ]
  },
  {
   "cell_type": "markdown",
   "id": "objective-union",
   "metadata": {},
   "source": [
    "simulate your parametric problem, the variable n can help you if you abort or interrupt simulations and you want to restart from where you left.\n",
    "\n",
    "The loop appends results to your dataframe after running 50 cycles\n",
    "\n",
    "to quickly screen materials with more or less fair conditions, one can fix the boundary conditions, set a very long cycle and a certain thickness, and kind of checking equilibrium performance. However, it is still a dynamic simulation, so caution should be used."
   ]
  },
  {
   "cell_type": "code",
   "execution_count": 30,
   "id": "impressive-treasury",
   "metadata": {
    "scrolled": true
   },
   "outputs": [
    {
     "name": "stdout",
     "output_type": "stream",
     "text": [
      "1 1 0\n",
      "1 1 1\n"
     ]
    }
   ],
   "source": [
    "\n",
    "n=0 \n",
    "nh=0\n",
    "nc=0\n",
    "\n",
    "for p in period:\n",
    "    for du in duty:\n",
    "        for thi in thick:\n",
    "            for tp in tpyr:\n",
    "                for dp in dpyr:\n",
    "                    n=n+1\n",
    "                    \n",
    "                    #heating mode\n",
    "                    nh=0\n",
    "                    for te in teva_h:\n",
    "                        for tc in tcon_h:\n",
    "                            for th in thot_h:\n",
    "                                nh=nh+1\n",
    "                                print(n,nh,nc)\n",
    "                                #if nh<4513: #this would be your last simulation when you aborted\n",
    "                                #    continue\n",
    "                                mod.setSimulationOptions(\"startTime=0\")\n",
    "                                mod.setSimulationOptions(\"stopTime=\"+str(p*n_cycles))\n",
    "                                mod.setSimulationOptions(\"stepSize=0.1\")\n",
    "                                mod.setParameters(\"SET_Period=\"+str(p))\n",
    "                                mod.setParameters(\"SET_DutyCycle=\"+str(du))\n",
    "                                mod.setParameters(\"sampleThickness=\"+str(thi))\n",
    "                                mod.setParameters(\"Tpyr=\"+str(tp))\n",
    "                                mod.setParameters(\"Dpyr=\"+str(dp))\n",
    "                                mod.setParameters(\"Teva=\"+str(te))\n",
    "                                mod.setParameters(\"Tcond=\"+str(tc))\n",
    "                                mod.setParameters(\"Thot=\"+str(th))\n",
    "                                x = runFunctionHeat(mod.simulate, t_abort, 'fail')\n",
    "                                df2=pd.DataFrame(data=[[x,p,du,thi,tp,dp,te,tc,th]],columns=['KPIheat','p','d','th','tp','dp','te','tc','th'])\n",
    "                                KPIheatd=KPIheatd.append(df2,ignore_index=True)\n",
    "                                \n",
    "                                #print(n, d.data(\"KPIheat\")[-1])\n",
    "                    \n",
    "                    #cooling mode\n",
    "                    nc=0\n",
    "                    for te in teva_c:\n",
    "                        for tc in tcon_c:\n",
    "                            for th in thot_c:\n",
    "                                nc=nc+1\n",
    "                                print(n,nh,nc)\n",
    "                                #if n<4513:\n",
    "                                #    continue\n",
    "                                mod.setSimulationOptions(\"startTime=0\")\n",
    "                                mod.setSimulationOptions(\"stopTime=\"+str(p*n_cycles))\n",
    "                                mod.setSimulationOptions(\"stepSize=0.1\")\n",
    "                                mod.setParameters(\"SET_Period=\"+str(p))\n",
    "                                mod.setParameters(\"SET_DutyCycle=\"+str(du))\n",
    "                                mod.setParameters(\"sampleThickness=\"+str(thi))\n",
    "                                mod.setParameters(\"Tpyr=\"+str(tp))\n",
    "                                mod.setParameters(\"Dpyr=\"+str(dp))\n",
    "                                mod.setParameters(\"Teva=\"+str(te))\n",
    "                                mod.setParameters(\"Tcond=\"+str(tc))\n",
    "                                mod.setParameters(\"Thot=\"+str(th))\n",
    "                                x = runFunctionCool(mod.simulate, t_abort, 'fail')\n",
    "                                df2=pd.DataFrame(data=[[x,p,du,thi,tp,dp,te,tc,th]],columns=['KPIcool','p','d','th','tp','dp','te','tc','th'])\n",
    "                                KPIcoold=KPIcoold.append(df2,ignore_index=True)\n",
    "                                \n",
    "                                #print(n, d.data(\"KPIcool\")[-1])"
   ]
  },
  {
   "cell_type": "markdown",
   "id": "improved-guinea",
   "metadata": {},
   "source": [
    "now you can explore your results and see what material is better in your parametric space"
   ]
  },
  {
   "cell_type": "code",
   "execution_count": 31,
   "id": "dominican-speaking",
   "metadata": {},
   "outputs": [
    {
     "name": "stdout",
     "output_type": "stream",
     "text": [
      "    KPIheat      p    d     th     tp     dp     te     tc     th\n",
      "0  0.307754  300.0  0.5  0.002  968.0  244.0  293.0  308.0  368.0\n",
      "    KPIcool      p    d     th     tp     dp     te     tc     th\n",
      "0  0.060734  300.0  0.5  0.002  968.0  244.0  288.0  303.0  363.0\n"
     ]
    }
   ],
   "source": [
    "print(KPIheatd)\n",
    "print(KPIcoold)"
   ]
  },
  {
   "cell_type": "markdown",
   "id": "accredited-conference",
   "metadata": {},
   "source": [
    "After selecting a material, you can invstigate how to optimally use it (cycle time, cycle management, sample thickness)"
   ]
  },
  {
   "cell_type": "code",
   "execution_count": 32,
   "id": "dried-street",
   "metadata": {},
   "outputs": [
    {
     "data": {
      "text/html": [
       "<div>\n",
       "<style scoped>\n",
       "    .dataframe tbody tr th:only-of-type {\n",
       "        vertical-align: middle;\n",
       "    }\n",
       "\n",
       "    .dataframe tbody tr th {\n",
       "        vertical-align: top;\n",
       "    }\n",
       "\n",
       "    .dataframe thead th {\n",
       "        text-align: right;\n",
       "    }\n",
       "</style>\n",
       "<table border=\"1\" class=\"dataframe\">\n",
       "  <thead>\n",
       "    <tr style=\"text-align: right;\">\n",
       "      <th></th>\n",
       "      <th>KPIheat</th>\n",
       "      <th>KPIcool</th>\n",
       "      <th>KPItotMC</th>\n",
       "      <th>KPItotHC</th>\n",
       "      <th>p</th>\n",
       "      <th>du</th>\n",
       "      <th>thi</th>\n",
       "    </tr>\n",
       "  </thead>\n",
       "  <tbody>\n",
       "  </tbody>\n",
       "</table>\n",
       "</div>"
      ],
      "text/plain": [
       "Empty DataFrame\n",
       "Columns: [KPIheat, KPIcool, KPItotMC, KPItotHC, p, du, thi]\n",
       "Index: []"
      ]
     },
     "execution_count": 32,
     "metadata": {},
     "output_type": "execute_result"
    }
   ],
   "source": [
    "KPItot=pd.DataFrame([],columns=['KPIheat','KPIcool','KPItotMC','KPItotHC','p','du','thi'])\n",
    "KPItot"
   ]
  },
  {
   "cell_type": "markdown",
   "id": "devoted-scene",
   "metadata": {},
   "source": [
    "here define your parametric space to explore"
   ]
  },
  {
   "cell_type": "code",
   "execution_count": 33,
   "id": "communist-xerox",
   "metadata": {
    "scrolled": true
   },
   "outputs": [
    {
     "name": "stdout",
     "output_type": "stream",
     "text": [
      "1\n"
     ]
    }
   ],
   "source": [
    "period=np.linspace(100, 100, 1)\n",
    "duty=np.linspace(0.5,0.5,1)\n",
    "thick=np.linspace(0.002, 0.002, 1)\n",
    "tpyr=968\n",
    "dpyr=244\n",
    "\n",
    "whm=0.67\n",
    "wcm=0.33\n",
    "\n",
    "whh=0.5\n",
    "wch=0.5\n",
    "\n",
    "#heating mode\n",
    "teva_h=273+20\n",
    "tcon_h=273+35\n",
    "thot_h=273+95\n",
    "\n",
    "#cooling mode\n",
    "teva_c=273+15\n",
    "tcon_c=273+30\n",
    "thot_c=273+90\n",
    "mod.setSimulationOptions(\"startTime=0\")\n",
    "mod.setSimulationOptions(\"stepSize=0.1\")\n",
    "mod.setParameters(\"Tpyr=\"+str(tpyr))\n",
    "mod.setParameters(\"Dpyr=\"+str(dpyr))\n",
    "n=0\n",
    "for p in period:\n",
    "    for du in duty:\n",
    "        for thi in thick:\n",
    "            n=n+1\n",
    "            #if n <11:\n",
    "            #    continue\n",
    "            mod.setSimulationOptions(\"stopTime=\"+str(p*n_cycles))\n",
    "            mod.setParameters(\"SET_Period=\"+str(p))\n",
    "            mod.setParameters(\"SET_DutyCycle=\"+str(du))\n",
    "            mod.setParameters(\"sampleThickness=\"+str(thi))\n",
    "            \n",
    "            #heating\n",
    "            mod.setParameters(\"Teva=\"+str(teva_h))\n",
    "            mod.setParameters(\"Tcond=\"+str(tcon_h))\n",
    "            mod.setParameters(\"Thot=\"+str(thot_h))\n",
    "            kpih = runFunctionHeat(mod.simulate, t_abort, 'fail')\n",
    "            #cooling\n",
    "            mod.setParameters(\"Teva=\"+str(teva_c))\n",
    "            mod.setParameters(\"Tcond=\"+str(tcon_c))\n",
    "            mod.setParameters(\"Thot=\"+str(thot_c))\n",
    "            kpic = runFunctionCool(mod.simulate, t_abort, 'fail')\n",
    "                                \n",
    "            df2=pd.DataFrame(data=[[kpih,kpic,1/(whm/kpih+wcm/kpic),1/(whh/kpih+wch/kpic),p,du,thi]],columns=['KPIheat','KPIcool','KPItotMC','KPItotHC','p','du','thi'])\n",
    "            KPItot=KPItot.append(df2,ignore_index=True)\n",
    "            print(n)"
   ]
  },
  {
   "cell_type": "code",
   "execution_count": 34,
   "id": "cellular-agency",
   "metadata": {
    "scrolled": false
   },
   "outputs": [
    {
     "data": {
      "text/html": [
       "<div>\n",
       "<style scoped>\n",
       "    .dataframe tbody tr th:only-of-type {\n",
       "        vertical-align: middle;\n",
       "    }\n",
       "\n",
       "    .dataframe tbody tr th {\n",
       "        vertical-align: top;\n",
       "    }\n",
       "\n",
       "    .dataframe thead th {\n",
       "        text-align: right;\n",
       "    }\n",
       "</style>\n",
       "<table border=\"1\" class=\"dataframe\">\n",
       "  <thead>\n",
       "    <tr style=\"text-align: right;\">\n",
       "      <th></th>\n",
       "      <th>KPIheat</th>\n",
       "      <th>KPIcool</th>\n",
       "      <th>KPItotMC</th>\n",
       "      <th>KPItotHC</th>\n",
       "      <th>p</th>\n",
       "      <th>du</th>\n",
       "      <th>thi</th>\n",
       "    </tr>\n",
       "  </thead>\n",
       "  <tbody>\n",
       "    <tr>\n",
       "      <th>0</th>\n",
       "      <td>0.533903</td>\n",
       "      <td>0.098719</td>\n",
       "      <td>0.217498</td>\n",
       "      <td>0.166628</td>\n",
       "      <td>100.0</td>\n",
       "      <td>0.5</td>\n",
       "      <td>0.002</td>\n",
       "    </tr>\n",
       "  </tbody>\n",
       "</table>\n",
       "</div>"
      ],
      "text/plain": [
       "    KPIheat   KPIcool  KPItotMC  KPItotHC      p   du    thi\n",
       "0  0.533903  0.098719  0.217498  0.166628  100.0  0.5  0.002"
      ]
     },
     "execution_count": 34,
     "metadata": {},
     "output_type": "execute_result"
    }
   ],
   "source": [
    "KPItot"
   ]
  },
  {
   "cell_type": "markdown",
   "id": "express-movie",
   "metadata": {},
   "source": [
    "save your results if you want"
   ]
  },
  {
   "cell_type": "code",
   "execution_count": 35,
   "id": "ready-broadway",
   "metadata": {},
   "outputs": [],
   "source": [
    "KPItot.to_csv('cyc.csv')"
   ]
  },
  {
   "cell_type": "markdown",
   "id": "buried-breeding",
   "metadata": {},
   "source": [
    "some plotting below"
   ]
  },
  {
   "cell_type": "code",
   "execution_count": 36,
   "id": "arctic-watson",
   "metadata": {},
   "outputs": [],
   "source": [
    "mod.setSimulationOptions(\"startTime=0\")\n",
    "mod.setSimulationOptions(\"stepSize=0.1\")\n",
    "mod.setParameters(\"Tpyr=\"+str(tpyr))\n",
    "mod.setParameters(\"Dpyr=\"+str(dpyr))\n",
    "mod.setSimulationOptions(\"stopTime=\"+str(p*n_cycles))\n",
    "mod.setParameters(\"SET_Period=\"+str(p))\n",
    "mod.setParameters(\"SET_DutyCycle=\"+str(du))\n",
    "mod.setParameters(\"sampleThickness=\"+str(thi))\n",
    "\n",
    "#cooling\n",
    "mod.setParameters(\"Teva=\"+str(teva_c))\n",
    "mod.setParameters(\"Tcond=\"+str(tcon_c))\n",
    "mod.setParameters(\"Thot=\"+str(thot_c))\n",
    "mod.simulate()\n",
    "d=DyMat.DyMatFile('MOSES.Simulations.EuroSun2022_RMFAC_SquareWave_res.mat')\n"
   ]
  },
  {
   "cell_type": "code",
   "execution_count": 37,
   "id": "devoted-backup",
   "metadata": {},
   "outputs": [],
   "source": [
    "kpi=np.average(d.data(\"KPIcool\")[-int(float(par['SET_Period'])/float(opt['stepSize'])):-1])\n",
    "cop=np.average(d.data(\"COPcool\")[-int(float(par['SET_Period'])/float(opt['stepSize'])):-1])\n",
    "w=d.data(\"RES_w\")[-2*int(float(par['SET_Period'])/float(opt['stepSize'])):-1]\n",
    "t=d.data(\"RES_Tb\")[-2*int(float(par['SET_Period'])/float(opt['stepSize'])):-1]\n",
    "tc=d.data(\"RES_Tc\")[-2*int(float(par['SET_Period'])/float(opt['stepSize'])):-1]"
   ]
  },
  {
   "cell_type": "code",
   "execution_count": 38,
   "id": "developed-timber",
   "metadata": {},
   "outputs": [
    {
     "name": "stdout",
     "output_type": "stream",
     "text": [
      "0.09871891213932733 0.7488229791229886\n"
     ]
    }
   ],
   "source": [
    "print(kpi,cop)"
   ]
  },
  {
   "cell_type": "code",
   "execution_count": 39,
   "id": "proof-female",
   "metadata": {},
   "outputs": [
    {
     "data": {
      "image/png": "[encoded data removed]",
      "text/plain": [
       "<Figure size 432x288 with 1 Axes>"
      ]
     },
     "metadata": {
      "needs_background": "light"
     },
     "output_type": "display_data"
    }
   ],
   "source": [
    "plt.plot([x/10  for x in range(0,len(w))],w, linewidth=6)\n",
    "plt.xlabel(\"Time [s]\", fontsize=18)\n",
    "plt.ylabel(\"Spec. Water loading [g/g]\", fontsize=18)\n",
    "plt.xticks(fontsize=16)\n",
    "plt.yticks(fontsize=16)\n",
    "plt.savefig('res_w.pdf',bbox_inches='tight')\n",
    "plt.show()"
   ]
  },
  {
   "cell_type": "code",
   "execution_count": 40,
   "id": "cubic-chess",
   "metadata": {},
   "outputs": [
    {
     "data": {
      "image/png": "[encoded data removed]",
      "text/plain": [
       "<Figure size 432x288 with 1 Axes>"
      ]
     },
     "metadata": {
      "needs_background": "light"
     },
     "output_type": "display_data"
    }
   ],
   "source": [
    "plt.plot([x/10  for x in range(0,len(w))],t,label='Adsorption Temperature', linewidth=6)\n",
    "plt.plot([x/10  for x in range(0,len(w))],tc,label='HEx Temperature', linewidth=6)\n",
    "plt.legend(bbox_to_anchor=(0.9, -0.2), fontsize=18)\n",
    "plt.xlabel(\"Time [s]\", fontsize=18)\n",
    "plt.ylabel(\"Temperature [K]\", fontsize=18)\n",
    "plt.xticks(fontsize=16)\n",
    "plt.yticks(fontsize=16)\n",
    "plt.savefig('res_t.pdf',bbox_inches='tight')\n",
    "plt.show()"
   ]
  },
  {
   "cell_type": "code",
   "execution_count": 41,
   "id": "racial-teddy",
   "metadata": {},
   "outputs": [
    {
     "data": {
      "text/html": [
       "<div>\n",
       "<style scoped>\n",
       "    .dataframe tbody tr th:only-of-type {\n",
       "        vertical-align: middle;\n",
       "    }\n",
       "\n",
       "    .dataframe tbody tr th {\n",
       "        vertical-align: top;\n",
       "    }\n",
       "\n",
       "    .dataframe thead th {\n",
       "        text-align: right;\n",
       "    }\n",
       "</style>\n",
       "<table border=\"1\" class=\"dataframe\">\n",
       "  <thead>\n",
       "    <tr style=\"text-align: right;\">\n",
       "      <th></th>\n",
       "      <th>KPIheat</th>\n",
       "      <th>p</th>\n",
       "      <th>d</th>\n",
       "      <th>th</th>\n",
       "      <th>tp</th>\n",
       "      <th>dp</th>\n",
       "      <th>te</th>\n",
       "      <th>tc</th>\n",
       "      <th>th</th>\n",
       "    </tr>\n",
       "  </thead>\n",
       "  <tbody>\n",
       "    <tr>\n",
       "      <th>0</th>\n",
       "      <td>0.307754</td>\n",
       "      <td>300.0</td>\n",
       "      <td>0.5</td>\n",
       "      <td>0.002</td>\n",
       "      <td>968.0</td>\n",
       "      <td>244.0</td>\n",
       "      <td>293.0</td>\n",
       "      <td>308.0</td>\n",
       "      <td>368.0</td>\n",
       "    </tr>\n",
       "  </tbody>\n",
       "</table>\n",
       "</div>"
      ],
      "text/plain": [
       "    KPIheat      p    d     th     tp     dp     te     tc     th\n",
       "0  0.307754  300.0  0.5  0.002  968.0  244.0  293.0  308.0  368.0"
      ]
     },
     "execution_count": 41,
     "metadata": {},
     "output_type": "execute_result"
    }
   ],
   "source": [
    "KPIheatd"
   ]
  },
  {
   "cell_type": "code",
   "execution_count": 42,
   "id": "advised-continent",
   "metadata": {},
   "outputs": [],
   "source": [
    "#KPIheatd.to_csv('KPIh_pyr_5.csv')\n",
    "#KPIcoold.to_csv('KPIc_pyr.csv')"
   ]
  },
  {
   "cell_type": "code",
   "execution_count": 43,
   "id": "strategic-brazilian",
   "metadata": {},
   "outputs": [
    {
     "data": {
      "text/plain": [
       "0.056842660265321074"
      ]
     },
     "execution_count": 43,
     "metadata": {},
     "output_type": "execute_result"
    }
   ],
   "source": [
    "p=69.57735\n",
    "du=0.617647\n",
    "thi=0.000343\n",
    "tp=915.5457\n",
    "dp=416.201\n",
    "te=308.5334\n",
    "tc=313.577\n",
    "th=365.7725\n",
    "mod.setSimulationOptions(\"startTime=0\")\n",
    "mod.setSimulationOptions(\"stopTime=\"+str(p*2*n_cycles))\n",
    "mod.setSimulationOptions(\"stepSize=0.1\")\n",
    "mod.setParameters(\"SET_Period=\"+str(p))\n",
    "mod.setParameters(\"SET_DutyCycle=\"+str(du))\n",
    "mod.setParameters(\"sampleThickness=\"+str(thi))\n",
    "mod.setParameters(\"Tpyr=\"+str(tp))\n",
    "mod.setParameters(\"Dpyr=\"+str(dp))\n",
    "mod.setParameters(\"Teva=\"+str(te))\n",
    "mod.setParameters(\"Tcond=\"+str(tc))\n",
    "mod.setParameters(\"Thot=\"+str(th))\n",
    "mod.simulate()\n",
    "d=DyMat.DyMatFile('MOSES.Simulations.EuroSun2022_RMFAC_SquareWave_res.mat')\n",
    "d.data(\"KPIcool\")[-1]"
   ]
  }
 ],
 "metadata": {
  "kernelspec": {
   "display_name": "Python 3",
   "language": "python",
   "name": "python3"
  },
  "language_info": {
   "codemirror_mode": {
    "name": "ipython",
    "version": 3
   },
   "file_extension": ".py",
   "mimetype": "text/x-python",
   "name": "python",
   "nbconvert_exporter": "python",
   "pygments_lexer": "ipython3",
   "version": "3.7.9"
  }
 },
 "nbformat": 4,
 "nbformat_minor": 5
}
